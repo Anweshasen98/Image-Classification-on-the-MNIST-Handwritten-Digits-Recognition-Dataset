{
  "nbformat": 4,
  "nbformat_minor": 0,
  "metadata": {
    "colab": {
      "provenance": [],
      "include_colab_link": true
    },
    "kernelspec": {
      "name": "python3",
      "display_name": "Python 3"
    },
    "language_info": {
      "name": "python"
    }
  },
  "cells": [
    {
      "cell_type": "markdown",
      "metadata": {
        "id": "view-in-github",
        "colab_type": "text"
      },
      "source": [
        "<a href=\"https://colab.research.google.com/github/Anweshasen98/Image-Classification-on-the-MNIST-Handwritten-Digits-Recognition-Dataset/blob/main/Model_A_Recurring_Fully_Connected_Layers.ipynb\" target=\"_parent\"><img src=\"https://colab.research.google.com/assets/colab-badge.svg\" alt=\"Open In Colab\"/></a>"
      ]
    },
    {
      "cell_type": "markdown",
      "source": [
        "# **Model A- MNIST Classifier With Fully Connected Neural Network**"
      ],
      "metadata": {
        "id": "4EwVkOBsAxO3"
      }
    },
    {
      "cell_type": "markdown",
      "source": [
        "FULLY CONNECTED NEURAL NETWORK"
      ],
      "metadata": {
        "id": "h2lyChgPBVV5"
      }
    },
    {
      "cell_type": "code",
      "execution_count": null,
      "metadata": {
        "colab": {
          "base_uri": "https://localhost:8080/"
        },
        "id": "-2av8FX-8ReA",
        "outputId": "5a34db1c-a5c1-407f-daa5-d1882b344652"
      },
      "outputs": [
        {
          "output_type": "stream",
          "name": "stdout",
          "text": [
            "Populating the interactive namespace from numpy and matplotlib\n"
          ]
        }
      ],
      "source": [
        "#IMPORT DEPENDENCIES\n",
        "\n",
        "import tensorflow as tf\n",
        "from tensorflow import keras\n",
        "\n",
        "import matplotlib.pyplot as plt\n",
        "%matplotlib inline\n",
        "\n",
        "import numpy as np\n",
        "\n",
        "from sklearn import metrics\n",
        "%pylab inline\n",
        "%matplotlib inline"
      ]
    },
    {
      "cell_type": "code",
      "source": [
        "#Splitting the dataset\n",
        "\n",
        "(X_train, y_train),(X_test,y_test)=keras.datasets.mnist.load_data()\n"
      ],
      "metadata": {
        "id": "UC3-xDhJ8UbK"
      },
      "execution_count": null,
      "outputs": []
    },
    {
      "cell_type": "code",
      "source": [
        "print(X_train.shape)\n",
        "print(X_test.shape)\n",
        "\n",
        "print(y_train.shape)\n",
        "print(y_test.shape)"
      ],
      "metadata": {
        "colab": {
          "base_uri": "https://localhost:8080/"
        },
        "id": "RHYeJtxG8WF4",
        "outputId": "da00a534-6543-4aab-8f71-e4041e022d14"
      },
      "execution_count": null,
      "outputs": [
        {
          "output_type": "stream",
          "name": "stdout",
          "text": [
            "(60000, 28, 28)\n",
            "(10000, 28, 28)\n",
            "(60000,)\n",
            "(10000,)\n"
          ]
        }
      ]
    },
    {
      "cell_type": "code",
      "source": [
        "#Check dimensions of any element of training data\n",
        "\n",
        "print(X_train[0].shape)\n",
        "\n",
        "#It has 28 rows and 28 Columns"
      ],
      "metadata": {
        "colab": {
          "base_uri": "https://localhost:8080/"
        },
        "id": "hPpAbNhI8XWK",
        "outputId": "e6bc8431-e193-4e7e-f07a-b43fefae9da5"
      },
      "execution_count": null,
      "outputs": [
        {
          "output_type": "stream",
          "name": "stdout",
          "text": [
            "(28, 28)\n"
          ]
        }
      ]
    },
    {
      "cell_type": "code",
      "source": [
        "plt.imshow(X_train[0])"
      ],
      "metadata": {
        "colab": {
          "base_uri": "https://localhost:8080/",
          "height": 283
        },
        "id": "g3KoCCtF8aPI",
        "outputId": "c23baa6e-31a6-4b8d-c543-1cdadf2af891"
      },
      "execution_count": null,
      "outputs": [
        {
          "output_type": "execute_result",
          "data": {
            "text/plain": [
              "<matplotlib.image.AxesImage at 0x7fed42f05880>"
            ]
          },
          "metadata": {},
          "execution_count": 55
        },
        {
          "output_type": "display_data",
          "data": {
            "text/plain": [
              "<Figure size 432x288 with 1 Axes>"
            ],
            "image/png": "[encoded data removed]"
          },
          "metadata": {
            "needs_background": "light"
          }
        }
      ]
    },
    {
      "cell_type": "code",
      "source": [
        "plt.imshow(X_train[1])"
      ],
      "metadata": {
        "colab": {
          "base_uri": "https://localhost:8080/",
          "height": 283
        },
        "id": "aOqBgVW69r_p",
        "outputId": "91cdca62-72e6-4546-9a06-cf7c3afc7450"
      },
      "execution_count": null,
      "outputs": [
        {
          "output_type": "execute_result",
          "data": {
            "text/plain": [
              "<matplotlib.image.AxesImage at 0x7fed4eae5760>"
            ]
          },
          "metadata": {},
          "execution_count": 56
        },
        {
          "output_type": "display_data",
          "data": {
            "text/plain": [
              "<Figure size 432x288 with 1 Axes>"
            ],
            "image/png": "[encoded data removed]"
          },
          "metadata": {
            "needs_background": "light"
          }
        }
      ]
    },
    {
      "cell_type": "code",
      "source": [
        "y_train[0:50]"
      ],
      "metadata": {
        "colab": {
          "base_uri": "https://localhost:8080/"
        },
        "id": "WfXDMhJJ9xiT",
        "outputId": "9905012b-b824-4310-e9aa-f76cb9b61350"
      },
      "execution_count": null,
      "outputs": [
        {
          "output_type": "execute_result",
          "data": {
            "text/plain": [
              "array([5, 0, 4, 1, 9, 2, 1, 3, 1, 4, 3, 5, 3, 6, 1, 7, 2, 8, 6, 9, 4, 0,\n",
              "       9, 1, 1, 2, 4, 3, 2, 7, 3, 8, 6, 9, 0, 5, 6, 0, 7, 6, 1, 8, 7, 9,\n",
              "       3, 9, 8, 5, 9, 3], dtype=uint8)"
            ]
          },
          "metadata": {},
          "execution_count": 57
        }
      ]
    },
    {
      "cell_type": "code",
      "source": [
        "#NORMALIZING INPUT DATA\n",
        "\n",
        "X_train = X_train/255.0\n",
        "X_test = X_test/255.0"
      ],
      "metadata": {
        "id": "V2i_NbEN9zsK"
      },
      "execution_count": null,
      "outputs": []
    },
    {
      "cell_type": "markdown",
      "source": [
        "# CALLBACK"
      ],
      "metadata": {
        "id": "-IIAu49j93wp"
      }
    },
    {
      "cell_type": "code",
      "source": [
        "\n",
        "class myCallback(tf.keras.callbacks.Callback):\n",
        "  def on_epoch_end(self, epoch, logs={}):\n",
        "    if(logs.get(\"accuracy\")> ACCURACY_THRESHOLD):\n",
        "      print(\"\\nReached %2.2f%% accuracy so cancelling training!\" % (ACCURACY_THRESHOLD*100))\n",
        "      self.model.stop_training = True\n",
        "\n",
        "\n",
        "callbacks = myCallback()\n"
      ],
      "metadata": {
        "id": "j16jIXpy93Id"
      },
      "execution_count": null,
      "outputs": []
    },
    {
      "cell_type": "markdown",
      "source": [
        "\n",
        "# MODEL WITH DENSE LAYERS"
      ],
      "metadata": {
        "id": "uWUa6Dc7-AXS"
      }
    },
    {
      "cell_type": "code",
      "source": [
        "model = keras.Sequential([\n",
        "    keras.layers.Flatten(input_shape=(28, 28)),  #It will flatten the input shape to 60000, 784\n",
        "    keras.layers.Dense(784, activation='relu'),  #First Hidden Layer with activation relu\n",
        "    keras.layers.Dense(400, activation='relu'),\n",
        "    keras.layers.Dense(100, activation='relu'),\n",
        "    keras.layers.Dense(10, activation='softmax')\n",
        "\n",
        "])\n",
        "\n",
        "model.compile(optimizer='adam',\n",
        "              loss='sparse_categorical_crossentropy',\n",
        "              metrics=['accuracy'])\n"
      ],
      "metadata": {
        "id": "OFZHTymx9-Wr"
      },
      "execution_count": null,
      "outputs": []
    },
    {
      "cell_type": "code",
      "source": [
        "model.summary()"
      ],
      "metadata": {
        "colab": {
          "base_uri": "https://localhost:8080/"
        },
        "id": "Pi05gCFL99S-",
        "outputId": "ba4b3d18-8d95-49ea-c607-2c72e4424a15"
      },
      "execution_count": null,
      "outputs": [
        {
          "output_type": "stream",
          "name": "stdout",
          "text": [
            "Model: \"sequential_2\"\n",
            "_________________________________________________________________\n",
            " Layer (type)                Output Shape              Param #   \n",
            "=================================================================\n",
            " flatten_2 (Flatten)         (None, 784)               0         \n",
            "                                                                 \n",
            " dense_8 (Dense)             (None, 784)               615440    \n",
            "                                                                 \n",
            " dense_9 (Dense)             (None, 400)               314000    \n",
            "                                                                 \n",
            " dense_10 (Dense)            (None, 100)               40100     \n",
            "                                                                 \n",
            " dense_11 (Dense)            (None, 10)                1010      \n",
            "                                                                 \n",
            "=================================================================\n",
            "Total params: 970,550\n",
            "Trainable params: 970,550\n",
            "Non-trainable params: 0\n",
            "_________________________________________________________________\n"
          ]
        }
      ]
    },
    {
      "cell_type": "code",
      "source": [
        "from keras.utils.vis_utils import plot_model\n",
        "\n",
        "plot_model(model,'model.png', show_shapes=True, show_layer_names=True)"
      ],
      "metadata": {
        "colab": {
          "base_uri": "https://localhost:8080/",
          "height": 644
        },
        "id": "OdARHK94-3mv",
        "outputId": "e47c4065-d5ed-47bf-beb3-768865317084"
      },
      "execution_count": null,
      "outputs": [
        {
          "output_type": "execute_result",
          "data": {
            "image/png": "[encoded data removed]",
            "text/plain": [
              "<IPython.core.display.Image object>"
            ]
          },
          "metadata": {},
          "execution_count": 62
        }
      ]
    },
    {
      "cell_type": "code",
      "source": [
        "ACCURACY_THRESHOLD =  .99\n",
        "\n",
        "training = model.fit(X_train, y_train, validation_data=(X_test, y_test), epochs=100, callbacks=[callbacks])\n"
      ],
      "metadata": {
        "colab": {
          "base_uri": "https://localhost:8080/"
        },
        "id": "_zwQL9UJ-JKD",
        "outputId": "bfc82a08-a06b-4721-b296-8606e7f927bc"
      },
      "execution_count": null,
      "outputs": [
        {
          "output_type": "stream",
          "name": "stdout",
          "text": [
            "Epoch 1/100\n",
            "1875/1875 [==============================] - 20s 10ms/step - loss: 0.1901 - accuracy: 0.9426 - val_loss: 0.1056 - val_accuracy: 0.9685\n",
            "Epoch 2/100\n",
            "1875/1875 [==============================] - 12s 6ms/step - loss: 0.0894 - accuracy: 0.9721 - val_loss: 0.0928 - val_accuracy: 0.9706\n",
            "Epoch 3/100\n",
            "1875/1875 [==============================] - 11s 6ms/step - loss: 0.0624 - accuracy: 0.9809 - val_loss: 0.0747 - val_accuracy: 0.9784\n",
            "Epoch 4/100\n",
            "1875/1875 [==============================] - 11s 6ms/step - loss: 0.0470 - accuracy: 0.9850 - val_loss: 0.0685 - val_accuracy: 0.9806\n",
            "Epoch 5/100\n",
            "1875/1875 [==============================] - 12s 6ms/step - loss: 0.0413 - accuracy: 0.9875 - val_loss: 0.0673 - val_accuracy: 0.9820\n",
            "Epoch 6/100\n",
            "1875/1875 [==============================] - ETA: 0s - loss: 0.0316 - accuracy: 0.9906\n",
            "Reached 99.00% accuracy so cancelling training!\n",
            "1875/1875 [==============================] - 12s 7ms/step - loss: 0.0316 - accuracy: 0.9906 - val_loss: 0.0764 - val_accuracy: 0.9810\n"
          ]
        }
      ]
    },
    {
      "cell_type": "code",
      "source": [
        "loss, accuracy = model.evaluate(X_test, y_test)\n",
        "\n",
        "print(f'Loss : {loss}, \\nAccuracy: {accuracy}')"
      ],
      "metadata": {
        "colab": {
          "base_uri": "https://localhost:8080/"
        },
        "id": "vjkYM-6J-kcp",
        "outputId": "60cda76b-0cf9-45d7-f572-377472fac2ba"
      },
      "execution_count": null,
      "outputs": [
        {
          "output_type": "stream",
          "name": "stdout",
          "text": [
            "313/313 [==============================] - 1s 2ms/step - loss: 0.0764 - accuracy: 0.9810\n",
            "Loss : 0.07637449353933334, \n",
            "Accuracy: 0.9810000061988831\n"
          ]
        }
      ]
    },
    {
      "cell_type": "markdown",
      "source": [
        "## Task 1(b)PERFORMANCE EVALUATION"
      ],
      "metadata": {
        "id": "KH_Q6KgaAQlB"
      }
    },
    {
      "cell_type": "code",
      "source": [
        "# Plot Training and Testing curves\n",
        "\n",
        "import matplotlib.pyplot as plt\n",
        "\n",
        "history = training.history\n",
        "\n",
        "def summarize_diagnostics(history):\n",
        "  acc = history['accuracy']\n",
        "  loss = history['loss']\n",
        "  val_acc = history['val_accuracy']\n",
        "  val_loss = history['val_loss']\n",
        "\n",
        "  epochs = range(len(acc))\n",
        "\n",
        "\n",
        "  plt.grid()\n",
        "  plt.plot(acc, 'r', label='Training accuracy')\n",
        "  plt.plot(val_acc, 'b', label='Validation accuracy')\n",
        "  plt.title('Training and validation accuracy')\n",
        "  plt.legend(loc=0)\n",
        "  plt.xlabel('Epoch')\n",
        "  plt.ylabel('Accuracy')\n",
        "  plt.figure()\n",
        "  plt.show()\n",
        "\n",
        "  plt.grid()\n",
        "  plt.plot(loss, 'r', label='Training Loss function')\n",
        "  plt.plot(val_loss, 'b', label='Validation Loss function')\n",
        "  plt.title('Training and validation loss function')\n",
        "  plt.legend(loc=0)\n",
        "  plt.xlabel('Epoch')\n",
        "  plt.ylabel('Loss')\n",
        "  plt.figure()\n",
        "  plt.show()\n",
        "\n",
        "\n",
        "summarize_diagnostics(history)"
      ],
      "metadata": {
        "colab": {
          "base_uri": "https://localhost:8080/",
          "height": 610
        },
        "id": "W-x-ASra-L29",
        "outputId": "2243fc4f-6b1b-44eb-d4ef-986281d46f41"
      },
      "execution_count": null,
      "outputs": [
        {
          "output_type": "display_data",
          "data": {
            "text/plain": [
              "<Figure size 432x288 with 1 Axes>"
            ],
            "image/png": "[encoded data removed]"
          },
          "metadata": {
            "needs_background": "light"
          }
        },
        {
          "output_type": "display_data",
          "data": {
            "text/plain": [
              "<Figure size 432x288 with 0 Axes>"
            ]
          },
          "metadata": {}
        },
        {
          "output_type": "display_data",
          "data": {
            "text/plain": [
              "<Figure size 432x288 with 1 Axes>"
            ],
            "image/png": "[encoded data removed]"
          },
          "metadata": {
            "needs_background": "light"
          }
        },
        {
          "output_type": "display_data",
          "data": {
            "text/plain": [
              "<Figure size 432x288 with 0 Axes>"
            ]
          },
          "metadata": {}
        }
      ]
    },
    {
      "cell_type": "code",
      "source": [
        "plt.imshow(X_test[0])"
      ],
      "metadata": {
        "colab": {
          "base_uri": "https://localhost:8080/",
          "height": 283
        },
        "id": "J4q_X676-oLU",
        "outputId": "12918be6-c1ad-46f9-ec21-e2eb090b1eab"
      },
      "execution_count": null,
      "outputs": [
        {
          "output_type": "execute_result",
          "data": {
            "text/plain": [
              "<matplotlib.image.AxesImage at 0x7fed42307bb0>"
            ]
          },
          "metadata": {},
          "execution_count": 66
        },
        {
          "output_type": "display_data",
          "data": {
            "text/plain": [
              "<Figure size 432x288 with 1 Axes>"
            ],
            "image/png": "[encoded data removed]"
          },
          "metadata": {
            "needs_background": "light"
          }
        }
      ]
    },
    {
      "cell_type": "code",
      "source": [
        "#PREDICT\n",
        "\n",
        "classification = model.predict(X_test)\n",
        "classification[0]"
      ],
      "metadata": {
        "colab": {
          "base_uri": "https://localhost:8080/"
        },
        "id": "Pzv5TgQz-qeK",
        "outputId": "ea47a5be-8bef-4869-909a-7b01f7648db9"
      },
      "execution_count": null,
      "outputs": [
        {
          "output_type": "stream",
          "name": "stdout",
          "text": [
            "313/313 [==============================] - 1s 2ms/step\n"
          ]
        },
        {
          "output_type": "execute_result",
          "data": {
            "text/plain": [
              "array([1.42928529e-12, 2.61578403e-08, 7.91589017e-10, 1.11293225e-10,\n",
              "       3.20972005e-09, 1.49873267e-12, 2.72079754e-17, 9.99999106e-01,\n",
              "       1.01615591e-11, 7.99681004e-07], dtype=float32)"
            ]
          },
          "metadata": {},
          "execution_count": 67
        }
      ]
    },
    {
      "cell_type": "code",
      "source": [
        "np.argmax(classification[0])"
      ],
      "metadata": {
        "colab": {
          "base_uri": "https://localhost:8080/"
        },
        "id": "9NBOM4fn-r9V",
        "outputId": "ac3c935d-b9cc-430d-e1cd-244381ee1e4b"
      },
      "execution_count": null,
      "outputs": [
        {
          "output_type": "execute_result",
          "data": {
            "text/plain": [
              "7"
            ]
          },
          "metadata": {},
          "execution_count": 68
        }
      ]
    },
    {
      "cell_type": "code",
      "source": [
        "y_test[0]"
      ],
      "metadata": {
        "colab": {
          "base_uri": "https://localhost:8080/"
        },
        "id": "b2tPLD_B-tul",
        "outputId": "05e60178-b41c-4332-c3bd-2dc1e634f724"
      },
      "execution_count": null,
      "outputs": [
        {
          "output_type": "execute_result",
          "data": {
            "text/plain": [
              "7"
            ]
          },
          "metadata": {},
          "execution_count": 69
        }
      ]
    },
    {
      "cell_type": "code",
      "source": [
        "y_pred = []\n",
        "\n",
        "for i in classification:\n",
        "    y_pred.append(np.argmax(i))\n",
        "\n",
        "y_pred[:5]"
      ],
      "metadata": {
        "colab": {
          "base_uri": "https://localhost:8080/"
        },
        "id": "MwR5kZgJ-u93",
        "outputId": "642e699e-125b-4e89-fb1e-a3d1bf9ccc51"
      },
      "execution_count": null,
      "outputs": [
        {
          "output_type": "execute_result",
          "data": {
            "text/plain": [
              "[7, 2, 1, 0, 4]"
            ]
          },
          "metadata": {},
          "execution_count": 70
        }
      ]
    },
    {
      "cell_type": "code",
      "source": [
        "pred=[np.argmax(i) for i in classification]\n",
        "\n",
        "pred[ :5]"
      ],
      "metadata": {
        "colab": {
          "base_uri": "https://localhost:8080/"
        },
        "id": "ZfXiwcK3-wkt",
        "outputId": "ecf220a5-5fe7-4da8-9166-ff85974771de"
      },
      "execution_count": null,
      "outputs": [
        {
          "output_type": "execute_result",
          "data": {
            "text/plain": [
              "[7, 2, 1, 0, 4]"
            ]
          },
          "metadata": {},
          "execution_count": 71
        }
      ]
    },
    {
      "cell_type": "code",
      "source": [
        "cm=tf.math.confusion_matrix(y_test, pred)\n",
        "cm"
      ],
      "metadata": {
        "colab": {
          "base_uri": "https://localhost:8080/"
        },
        "id": "7ovqsiRI-xyl",
        "outputId": "775aaec2-67ee-4f57-d943-13f087293049"
      },
      "execution_count": null,
      "outputs": [
        {
          "output_type": "execute_result",
          "data": {
            "text/plain": [
              "<tf.Tensor: shape=(10, 10), dtype=int32, numpy=\n",
              "array([[ 977,    0,    1,    0,    1,    0,    0,    0,    1,    0],\n",
              "       [   1, 1123,    3,    1,    0,    3,    1,    1,    2,    0],\n",
              "       [   3,    0, 1011,    2,    4,    0,    1,    5,    6,    0],\n",
              "       [   2,    0,    2,  986,    0,    4,    0,    5,    6,    5],\n",
              "       [   2,    3,    1,    0,  958,    0,    4,    1,    0,   13],\n",
              "       [   2,    1,    0,    6,    1,  875,    2,    1,    1,    3],\n",
              "       [   6,    3,    0,    0,    7,    4,  933,    0,    4,    1],\n",
              "       [   1,    6,    6,    0,    0,    0,    0, 1005,    4,    6],\n",
              "       [   1,    0,    1,    1,    4,    4,    0,    3,  957,    3],\n",
              "       [   2,    4,    0,    2,    8,    2,    0,    3,    3,  985]],\n",
              "      dtype=int32)>"
            ]
          },
          "metadata": {},
          "execution_count": 72
        }
      ]
    },
    {
      "cell_type": "code",
      "source": [
        "import seaborn as sn\n",
        "plt.figure(figsize = (10,7))\n",
        "sn.heatmap(cm, annot=True, fmt='d')\n",
        "plt.xlabel('Predicted')\n",
        "plt.ylabel('Truth')"
      ],
      "metadata": {
        "colab": {
          "base_uri": "https://localhost:8080/",
          "height": 460
        },
        "id": "aeWzAp8Q-zUJ",
        "outputId": "7555ce02-63ea-453c-b6d5-640f8d3990fa"
      },
      "execution_count": null,
      "outputs": [
        {
          "output_type": "execute_result",
          "data": {
            "text/plain": [
              "Text(69.0, 0.5, 'Truth')"
            ]
          },
          "metadata": {},
          "execution_count": 73
        },
        {
          "output_type": "display_data",
          "data": {
            "text/plain": [
              "<Figure size 720x504 with 2 Axes>"
            ],
            "image/png": "[encoded data removed]"
          },
          "metadata": {
            "needs_background": "light"
          }
        }
      ]
    },
    {
      "cell_type": "markdown",
      "source": [
        "End of Task 1(a)"
      ],
      "metadata": {
        "id": "j_0gWdbiVqU6"
      }
    }
  ]
}